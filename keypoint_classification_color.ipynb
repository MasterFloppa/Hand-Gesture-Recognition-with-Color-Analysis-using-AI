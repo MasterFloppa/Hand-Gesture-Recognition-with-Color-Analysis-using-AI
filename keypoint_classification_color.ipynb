{
 "cells": [
  {
   "cell_type": "code",
   "execution_count": 1,
   "metadata": {
    "id": "igMyGnjE9hEp"
   },
   "outputs": [],
   "source": [
    "import csv\n",
    "\n",
    "import numpy as np\n",
    "import tensorflow as tf\n",
    "from sklearn.model_selection import train_test_split\n",
    "\n",
    "RANDOM_SEED = 42"
   ]
  },
  {
   "cell_type": "markdown",
   "metadata": {
    "id": "t2HDvhIu9hEr"
   },
   "source": [
    "# Specify each path"
   ]
  },
  {
   "cell_type": "code",
   "execution_count": 2,
   "metadata": {
    "id": "9NvZP2Zn9hEy"
   },
   "outputs": [],
   "source": [
    "dataset = 'model/keypoint_classifier_color/color.csv'\n",
    "model_save_path = 'model/keypoint_classifier_color/color.keras'\n",
    "tflite_save_path = 'model/keypoint_classifier_color/color.tflite'"
   ]
  },
  {
   "cell_type": "markdown",
   "metadata": {
    "id": "s5oMH7x19hEz"
   },
   "source": [
    "# Set number of classes"
   ]
  },
  {
   "cell_type": "code",
   "execution_count": 3,
   "metadata": {
    "id": "du4kodXL9hEz"
   },
   "outputs": [],
   "source": [
    "NUM_CLASSES = 3"
   ]
  },
  {
   "cell_type": "markdown",
   "metadata": {
    "id": "XjnL0uso9hEz"
   },
   "source": [
    "# Dataset reading"
   ]
  },
  {
   "cell_type": "code",
   "execution_count": 4,
   "metadata": {
    "id": "QT5ZqtEz9hE0"
   },
   "outputs": [],
   "source": [
    "X_dataset = np.loadtxt(dataset, delimiter=',', dtype='float32', usecols=list(range(1, 4 + 1)))"
   ]
  },
  {
   "cell_type": "code",
   "execution_count": 5,
   "metadata": {
    "id": "QmoKFsp49hE0"
   },
   "outputs": [
    {
     "name": "stdout",
     "output_type": "stream",
     "text": [
      "(1536, 4)\n",
      "(1536,)\n",
      "[[ 57.27238   74.362854 112.1581     0.      ]\n",
      " [ 56.41714   73.17333  110.53048    0.      ]\n",
      " [ 58.575237  75.809525 113.75238    0.      ]\n",
      " ...\n",
      " [ 27.038572  48.989525 101.97476    0.      ]\n",
      " [ 23.190475  37.049522  69.54667    0.      ]\n",
      " [ 22.786667  40.000954  80.89714    0.      ]]\n",
      "[1 1 1 ... 1 1 1]\n"
     ]
    }
   ],
   "source": [
    "y_dataset = np.loadtxt(dataset, delimiter=',', dtype='int32', usecols=(0))\n",
    "print(X_dataset.shape)\n",
    "print(y_dataset.shape)\n",
    "print(X_dataset)\n",
    "print(y_dataset)"
   ]
  },
  {
   "cell_type": "code",
   "execution_count": 6,
   "metadata": {
    "id": "xQU7JTZ_9hE0"
   },
   "outputs": [],
   "source": [
    "X_train, X_test, y_train, y_test = train_test_split(X_dataset, y_dataset, train_size=0.75, random_state=RANDOM_SEED)"
   ]
  },
  {
   "cell_type": "markdown",
   "metadata": {
    "id": "mxK_lETT9hE0"
   },
   "source": [
    "# Model building"
   ]
  },
  {
   "cell_type": "code",
   "execution_count": 7,
   "metadata": {
    "id": "vHBmUf1t9hE1"
   },
   "outputs": [],
   "source": [
    "model = tf.keras.models.Sequential([\n",
    "    tf.keras.layers.Input((4, )), #number of additional para\n",
    "    tf.keras.layers.Dropout(0.2),\n",
    "    tf.keras.layers.Dense(20, activation='relu'),\n",
    "    tf.keras.layers.Dropout(0.4),\n",
    "    tf.keras.layers.Dense(10, activation='relu'),\n",
    "    tf.keras.layers.Dense(NUM_CLASSES, activation='softmax')\n",
    "])"
   ]
  },
  {
   "cell_type": "code",
   "execution_count": 8,
   "metadata": {
    "colab": {
     "base_uri": "https://localhost:8080/"
    },
    "id": "ypqky9tc9hE1",
    "outputId": "5db082bb-30e3-4110-bf63-a1ee777ecd46"
   },
   "outputs": [
    {
     "name": "stdout",
     "output_type": "stream",
     "text": [
      "Model: \"sequential\"\n",
      "_________________________________________________________________\n",
      " Layer (type)                Output Shape              Param #   \n",
      "=================================================================\n",
      " dropout (Dropout)           (None, 4)                 0         \n",
      "                                                                 \n",
      " dense (Dense)               (None, 20)                100       \n",
      "                                                                 \n",
      " dropout_1 (Dropout)         (None, 20)                0         \n",
      "                                                                 \n",
      " dense_1 (Dense)             (None, 10)                210       \n",
      "                                                                 \n",
      " dense_2 (Dense)             (None, 3)                 33        \n",
      "                                                                 \n",
      "=================================================================\n",
      "Total params: 343 (1.34 KB)\n",
      "Trainable params: 343 (1.34 KB)\n",
      "Non-trainable params: 0 (0.00 Byte)\n",
      "_________________________________________________________________\n"
     ]
    }
   ],
   "source": [
    "model.summary()  # tf.keras.utils.plot_model(model, show_shapes=True)"
   ]
  },
  {
   "cell_type": "code",
   "execution_count": 9,
   "metadata": {
    "id": "MbMjOflQ9hE1"
   },
   "outputs": [],
   "source": [
    "# Model checkpoint callback\n",
    "cp_callback = tf.keras.callbacks.ModelCheckpoint(\n",
    "    model_save_path, verbose=1, save_weights_only=False)\n",
    "# Callback for early stopping\n",
    "es_callback = tf.keras.callbacks.EarlyStopping(patience=20, verbose=1)"
   ]
  },
  {
   "cell_type": "code",
   "execution_count": 10,
   "metadata": {
    "id": "c3Dac0M_9hE2"
   },
   "outputs": [],
   "source": [
    "# Model compilation\n",
    "model.compile(\n",
    "    optimizer='adam',\n",
    "    loss='sparse_categorical_crossentropy',\n",
    "    metrics=['accuracy']\n",
    ")"
   ]
  },
  {
   "cell_type": "markdown",
   "metadata": {
    "id": "7XI0j1Iu9hE2"
   },
   "source": [
    "# Model training"
   ]
  },
  {
   "cell_type": "code",
   "execution_count": 11,
   "metadata": {
    "colab": {
     "base_uri": "https://localhost:8080/"
    },
    "id": "WirBl-JE9hE3",
    "outputId": "71b30ca2-8294-4d9d-8aa2-800d90d399de",
    "scrolled": true
   },
   "outputs": [
    {
     "name": "stdout",
     "output_type": "stream",
     "text": [
      "Epoch 1/1000\n",
      "1/9 [==>...........................] - ETA: 5s - loss: 8.7249 - accuracy: 0.5625\n",
      "Epoch 1: saving model to model/keypoint_classifier_color\\color.keras\n",
      "9/9 [==============================] - 1s 38ms/step - loss: 8.3928 - accuracy: 0.5556 - val_loss: 1.0872 - val_accuracy: 0.9375\n",
      "Epoch 2/1000\n",
      "1/9 [==>...........................] - ETA: 0s - loss: 5.7122 - accuracy: 0.6016\n",
      "Epoch 2: saving model to model/keypoint_classifier_color\\color.keras\n",
      "9/9 [==============================] - 0s 12ms/step - loss: 6.5128 - accuracy: 0.5911 - val_loss: 0.8401 - val_accuracy: 0.9740\n",
      "Epoch 3/1000\n",
      "1/9 [==>...........................] - ETA: 0s - loss: 5.0545 - accuracy: 0.6641\n",
      "Epoch 3: saving model to model/keypoint_classifier_color\\color.keras\n",
      "9/9 [==============================] - 0s 12ms/step - loss: 5.1230 - accuracy: 0.6146 - val_loss: 0.7501 - val_accuracy: 0.9661\n",
      "Epoch 4/1000\n",
      "1/9 [==>...........................] - ETA: 0s - loss: 5.9655 - accuracy: 0.6172\n",
      "Epoch 4: saving model to model/keypoint_classifier_color\\color.keras\n",
      "9/9 [==============================] - 0s 12ms/step - loss: 4.3915 - accuracy: 0.6484 - val_loss: 0.6376 - val_accuracy: 0.9740\n",
      "Epoch 5/1000\n",
      "1/9 [==>...........................] - ETA: 0s - loss: 5.8463 - accuracy: 0.6641\n",
      "Epoch 5: saving model to model/keypoint_classifier_color\\color.keras\n",
      "9/9 [==============================] - 0s 10ms/step - loss: 3.9757 - accuracy: 0.6641 - val_loss: 0.5364 - val_accuracy: 0.9766\n",
      "Epoch 6/1000\n",
      "1/9 [==>...........................] - ETA: 0s - loss: 3.8187 - accuracy: 0.6172\n",
      "Epoch 6: saving model to model/keypoint_classifier_color\\color.keras\n",
      "9/9 [==============================] - 0s 11ms/step - loss: 3.3715 - accuracy: 0.6519 - val_loss: 0.4773 - val_accuracy: 0.9818\n",
      "Epoch 7/1000\n",
      "1/9 [==>...........................] - ETA: 0s - loss: 2.9769 - accuracy: 0.6328\n",
      "Epoch 7: saving model to model/keypoint_classifier_color\\color.keras\n",
      "9/9 [==============================] - 0s 13ms/step - loss: 3.1570 - accuracy: 0.6641 - val_loss: 0.4302 - val_accuracy: 0.9818\n",
      "Epoch 8/1000\n",
      "1/9 [==>...........................] - ETA: 0s - loss: 3.1306 - accuracy: 0.6250\n",
      "Epoch 8: saving model to model/keypoint_classifier_color\\color.keras\n",
      "9/9 [==============================] - 0s 14ms/step - loss: 3.1050 - accuracy: 0.6736 - val_loss: 0.4002 - val_accuracy: 0.9818\n",
      "Epoch 9/1000\n",
      "1/9 [==>...........................] - ETA: 0s - loss: 2.4033 - accuracy: 0.6641\n",
      "Epoch 9: saving model to model/keypoint_classifier_color\\color.keras\n",
      "9/9 [==============================] - 0s 10ms/step - loss: 2.9105 - accuracy: 0.6979 - val_loss: 0.3724 - val_accuracy: 0.9792\n",
      "Epoch 10/1000\n",
      "1/9 [==>...........................] - ETA: 0s - loss: 2.2839 - accuracy: 0.7109\n",
      "Epoch 10: saving model to model/keypoint_classifier_color\\color.keras\n",
      "9/9 [==============================] - 0s 12ms/step - loss: 2.4493 - accuracy: 0.7023 - val_loss: 0.3436 - val_accuracy: 0.9740\n",
      "Epoch 11/1000\n",
      "1/9 [==>...........................] - ETA: 0s - loss: 2.3259 - accuracy: 0.7266\n",
      "Epoch 11: saving model to model/keypoint_classifier_color\\color.keras\n",
      "9/9 [==============================] - 0s 12ms/step - loss: 2.0945 - accuracy: 0.6693 - val_loss: 0.3274 - val_accuracy: 0.9766\n",
      "Epoch 12/1000\n",
      "1/9 [==>...........................] - ETA: 0s - loss: 1.7817 - accuracy: 0.7109\n",
      "Epoch 12: saving model to model/keypoint_classifier_color\\color.keras\n",
      "9/9 [==============================] - 0s 13ms/step - loss: 2.1238 - accuracy: 0.6901 - val_loss: 0.3131 - val_accuracy: 0.9792\n",
      "Epoch 13/1000\n",
      "1/9 [==>...........................] - ETA: 0s - loss: 1.8399 - accuracy: 0.6719\n",
      "Epoch 13: saving model to model/keypoint_classifier_color\\color.keras\n",
      "9/9 [==============================] - 0s 13ms/step - loss: 2.2134 - accuracy: 0.6562 - val_loss: 0.2897 - val_accuracy: 0.9714\n",
      "Epoch 14/1000\n",
      "1/9 [==>...........................] - ETA: 0s - loss: 2.0638 - accuracy: 0.6875\n",
      "Epoch 14: saving model to model/keypoint_classifier_color\\color.keras\n",
      "9/9 [==============================] - 0s 13ms/step - loss: 1.9709 - accuracy: 0.6858 - val_loss: 0.2709 - val_accuracy: 0.9714\n",
      "Epoch 15/1000\n",
      "1/9 [==>...........................] - ETA: 0s - loss: 0.9705 - accuracy: 0.7812\n",
      "Epoch 15: saving model to model/keypoint_classifier_color\\color.keras\n",
      "9/9 [==============================] - 0s 12ms/step - loss: 1.4197 - accuracy: 0.6797 - val_loss: 0.2613 - val_accuracy: 0.9688\n",
      "Epoch 16/1000\n",
      "1/9 [==>...........................] - ETA: 0s - loss: 1.5271 - accuracy: 0.7188\n",
      "Epoch 16: saving model to model/keypoint_classifier_color\\color.keras\n",
      "9/9 [==============================] - 0s 13ms/step - loss: 1.5824 - accuracy: 0.6849 - val_loss: 0.2443 - val_accuracy: 0.9766\n",
      "Epoch 17/1000\n",
      "1/9 [==>...........................] - ETA: 0s - loss: 1.8622 - accuracy: 0.6875\n",
      "Epoch 17: saving model to model/keypoint_classifier_color\\color.keras\n",
      "9/9 [==============================] - 0s 12ms/step - loss: 1.5045 - accuracy: 0.6979 - val_loss: 0.2257 - val_accuracy: 0.9766\n",
      "Epoch 18/1000\n",
      "1/9 [==>...........................] - ETA: 0s - loss: 1.1901 - accuracy: 0.7109\n",
      "Epoch 18: saving model to model/keypoint_classifier_color\\color.keras\n",
      "9/9 [==============================] - 0s 11ms/step - loss: 1.4952 - accuracy: 0.6988 - val_loss: 0.2174 - val_accuracy: 0.9792\n",
      "Epoch 19/1000\n",
      "1/9 [==>...........................] - ETA: 0s - loss: 2.0977 - accuracy: 0.6875\n",
      "Epoch 19: saving model to model/keypoint_classifier_color\\color.keras\n",
      "9/9 [==============================] - 0s 11ms/step - loss: 1.5396 - accuracy: 0.6884 - val_loss: 0.2213 - val_accuracy: 0.9714\n",
      "Epoch 20/1000\n",
      "1/9 [==>...........................] - ETA: 0s - loss: 2.4907 - accuracy: 0.6797\n",
      "Epoch 20: saving model to model/keypoint_classifier_color\\color.keras\n",
      "9/9 [==============================] - 0s 11ms/step - loss: 1.6114 - accuracy: 0.6806 - val_loss: 0.2221 - val_accuracy: 0.9792\n",
      "Epoch 21/1000\n",
      "1/9 [==>...........................] - ETA: 0s - loss: 1.1267 - accuracy: 0.7344\n",
      "Epoch 21: saving model to model/keypoint_classifier_color\\color.keras\n",
      "9/9 [==============================] - 0s 12ms/step - loss: 1.3132 - accuracy: 0.6736 - val_loss: 0.2544 - val_accuracy: 0.9609\n",
      "Epoch 22/1000\n",
      "1/9 [==>...........................] - ETA: 0s - loss: 1.9858 - accuracy: 0.7031\n",
      "Epoch 22: saving model to model/keypoint_classifier_color\\color.keras\n",
      "9/9 [==============================] - 0s 11ms/step - loss: 1.4042 - accuracy: 0.6918 - val_loss: 0.2500 - val_accuracy: 0.9714\n",
      "Epoch 23/1000\n",
      "1/9 [==>...........................] - ETA: 0s - loss: 1.3019 - accuracy: 0.6484\n",
      "Epoch 23: saving model to model/keypoint_classifier_color\\color.keras\n",
      "9/9 [==============================] - 0s 11ms/step - loss: 1.3022 - accuracy: 0.6944 - val_loss: 0.2596 - val_accuracy: 0.9661\n",
      "Epoch 24/1000\n",
      "1/9 [==>...........................] - ETA: 0s - loss: 0.7315 - accuracy: 0.7031\n",
      "Epoch 24: saving model to model/keypoint_classifier_color\\color.keras\n",
      "9/9 [==============================] - 0s 15ms/step - loss: 1.1269 - accuracy: 0.6823 - val_loss: 0.2170 - val_accuracy: 0.9714\n",
      "Epoch 25/1000\n",
      "1/9 [==>...........................] - ETA: 0s - loss: 1.6958 - accuracy: 0.7109\n",
      "Epoch 25: saving model to model/keypoint_classifier_color\\color.keras\n",
      "9/9 [==============================] - 0s 12ms/step - loss: 1.0423 - accuracy: 0.7101 - val_loss: 0.2344 - val_accuracy: 0.9661\n",
      "Epoch 26/1000\n",
      "1/9 [==>...........................] - ETA: 0s - loss: 1.1066 - accuracy: 0.7109\n",
      "Epoch 26: saving model to model/keypoint_classifier_color\\color.keras\n",
      "9/9 [==============================] - 0s 11ms/step - loss: 1.0978 - accuracy: 0.6918 - val_loss: 0.2800 - val_accuracy: 0.9557\n",
      "Epoch 27/1000\n",
      "1/9 [==>...........................] - ETA: 0s - loss: 0.7270 - accuracy: 0.7031\n",
      "Epoch 27: saving model to model/keypoint_classifier_color\\color.keras\n",
      "9/9 [==============================] - 0s 11ms/step - loss: 1.0767 - accuracy: 0.6962 - val_loss: 0.2839 - val_accuracy: 0.9453\n",
      "Epoch 28/1000\n",
      "1/9 [==>...........................] - ETA: 0s - loss: 0.4887 - accuracy: 0.7891\n",
      "Epoch 28: saving model to model/keypoint_classifier_color\\color.keras\n",
      "9/9 [==============================] - 0s 13ms/step - loss: 1.0073 - accuracy: 0.7083 - val_loss: 0.2687 - val_accuracy: 0.9505\n",
      "Epoch 29/1000\n",
      "1/9 [==>...........................] - ETA: 0s - loss: 0.8000 - accuracy: 0.7109\n",
      "Epoch 29: saving model to model/keypoint_classifier_color\\color.keras\n",
      "9/9 [==============================] - 0s 10ms/step - loss: 1.1234 - accuracy: 0.6814 - val_loss: 0.2668 - val_accuracy: 0.9661\n",
      "Epoch 30/1000\n",
      "1/9 [==>...........................] - ETA: 0s - loss: 0.9376 - accuracy: 0.7188\n",
      "Epoch 30: saving model to model/keypoint_classifier_color\\color.keras\n",
      "9/9 [==============================] - 0s 10ms/step - loss: 0.8104 - accuracy: 0.7057 - val_loss: 0.2735 - val_accuracy: 0.9661\n",
      "Epoch 31/1000\n",
      "1/9 [==>...........................] - ETA: 0s - loss: 1.0329 - accuracy: 0.6641\n",
      "Epoch 31: saving model to model/keypoint_classifier_color\\color.keras\n",
      "9/9 [==============================] - 0s 9ms/step - loss: 0.9447 - accuracy: 0.7222 - val_loss: 0.2634 - val_accuracy: 0.9661\n",
      "Epoch 32/1000\n",
      "1/9 [==>...........................] - ETA: 0s - loss: 0.8348 - accuracy: 0.6719\n",
      "Epoch 32: saving model to model/keypoint_classifier_color\\color.keras\n",
      "9/9 [==============================] - 0s 10ms/step - loss: 1.0451 - accuracy: 0.7057 - val_loss: 0.2797 - val_accuracy: 0.9661\n",
      "Epoch 33/1000\n",
      "1/9 [==>...........................] - ETA: 0s - loss: 1.1968 - accuracy: 0.7500\n",
      "Epoch 33: saving model to model/keypoint_classifier_color\\color.keras\n",
      "9/9 [==============================] - 0s 8ms/step - loss: 0.8917 - accuracy: 0.7179 - val_loss: 0.2983 - val_accuracy: 0.9661\n",
      "Epoch 34/1000\n",
      "1/9 [==>...........................] - ETA: 0s - loss: 1.2828 - accuracy: 0.6328\n",
      "Epoch 34: saving model to model/keypoint_classifier_color\\color.keras\n",
      "9/9 [==============================] - 0s 8ms/step - loss: 1.0884 - accuracy: 0.6832 - val_loss: 0.3011 - val_accuracy: 0.9661\n",
      "Epoch 35/1000\n",
      "1/9 [==>...........................] - ETA: 0s - loss: 0.8142 - accuracy: 0.7109\n",
      "Epoch 35: saving model to model/keypoint_classifier_color\\color.keras\n",
      "9/9 [==============================] - 0s 8ms/step - loss: 0.9559 - accuracy: 0.7118 - val_loss: 0.3056 - val_accuracy: 0.9661\n",
      "Epoch 36/1000\n",
      "1/9 [==>...........................] - ETA: 0s - loss: 0.4467 - accuracy: 0.8281\n",
      "Epoch 36: saving model to model/keypoint_classifier_color\\color.keras\n",
      "9/9 [==============================] - 0s 8ms/step - loss: 0.8129 - accuracy: 0.7214 - val_loss: 0.3378 - val_accuracy: 0.9635\n",
      "Epoch 37/1000\n",
      "1/9 [==>...........................] - ETA: 0s - loss: 0.9745 - accuracy: 0.7109\n",
      "Epoch 37: saving model to model/keypoint_classifier_color\\color.keras\n",
      "9/9 [==============================] - 0s 7ms/step - loss: 0.9661 - accuracy: 0.7083 - val_loss: 0.3224 - val_accuracy: 0.9661\n",
      "Epoch 38/1000\n",
      "1/9 [==>...........................] - ETA: 0s - loss: 0.7861 - accuracy: 0.6406\n",
      "Epoch 38: saving model to model/keypoint_classifier_color\\color.keras\n",
      "9/9 [==============================] - 0s 9ms/step - loss: 0.9329 - accuracy: 0.6884 - val_loss: 0.3087 - val_accuracy: 0.9661\n",
      "Epoch 39/1000\n",
      "1/9 [==>...........................] - ETA: 0s - loss: 1.1840 - accuracy: 0.6797\n",
      "Epoch 39: saving model to model/keypoint_classifier_color\\color.keras\n",
      "9/9 [==============================] - 0s 10ms/step - loss: 0.8210 - accuracy: 0.7274 - val_loss: 0.3108 - val_accuracy: 0.9609\n",
      "Epoch 40/1000\n",
      "1/9 [==>...........................] - ETA: 0s - loss: 0.9346 - accuracy: 0.7422\n",
      "Epoch 40: saving model to model/keypoint_classifier_color\\color.keras\n",
      "9/9 [==============================] - 0s 9ms/step - loss: 0.7671 - accuracy: 0.7257 - val_loss: 0.3307 - val_accuracy: 0.9557\n",
      "Epoch 41/1000\n",
      "1/9 [==>...........................] - ETA: 0s - loss: 0.6793 - accuracy: 0.7109\n",
      "Epoch 41: saving model to model/keypoint_classifier_color\\color.keras\n",
      "9/9 [==============================] - 0s 9ms/step - loss: 0.8360 - accuracy: 0.7309 - val_loss: 0.3281 - val_accuracy: 0.9557\n",
      "Epoch 42/1000\n",
      "1/9 [==>...........................] - ETA: 0s - loss: 0.5420 - accuracy: 0.7734\n",
      "Epoch 42: saving model to model/keypoint_classifier_color\\color.keras\n",
      "9/9 [==============================] - 0s 12ms/step - loss: 0.7924 - accuracy: 0.7083 - val_loss: 0.3193 - val_accuracy: 0.9557\n",
      "Epoch 43/1000\n",
      "1/9 [==>...........................] - ETA: 0s - loss: 0.6125 - accuracy: 0.7344\n",
      "Epoch 43: saving model to model/keypoint_classifier_color\\color.keras\n",
      "9/9 [==============================] - 0s 12ms/step - loss: 0.8208 - accuracy: 0.7161 - val_loss: 0.3334 - val_accuracy: 0.9531\n",
      "Epoch 44/1000\n",
      "1/9 [==>...........................] - ETA: 0s - loss: 0.9527 - accuracy: 0.7188\n",
      "Epoch 44: saving model to model/keypoint_classifier_color\\color.keras\n",
      "9/9 [==============================] - 0s 12ms/step - loss: 0.9539 - accuracy: 0.7352 - val_loss: 0.3411 - val_accuracy: 0.9505\n",
      "Epoch 44: early stopping\n"
     ]
    },
    {
     "data": {
      "text/plain": [
       "<keras.src.callbacks.History at 0x1c789046590>"
      ]
     },
     "execution_count": 11,
     "metadata": {},
     "output_type": "execute_result"
    }
   ],
   "source": [
    "model.fit(\n",
    "    X_train,\n",
    "    y_train,\n",
    "    epochs=1000,\n",
    "    batch_size=128,\n",
    "    validation_data=(X_test, y_test),\n",
    "    callbacks=[cp_callback, es_callback]\n",
    ")"
   ]
  },
  {
   "cell_type": "code",
   "execution_count": 12,
   "metadata": {
    "colab": {
     "base_uri": "https://localhost:8080/"
    },
    "id": "pxvb2Y299hE3",
    "outputId": "59eb3185-2e37-4b9e-bc9d-ab1b8ac29b7f"
   },
   "outputs": [
    {
     "name": "stdout",
     "output_type": "stream",
     "text": [
      "3/3 [==============================] - 0s 4ms/step - loss: 0.3411 - accuracy: 0.9505\n"
     ]
    }
   ],
   "source": [
    "# Model evaluation\n",
    "val_loss, val_acc = model.evaluate(X_test, y_test, batch_size=128)"
   ]
  },
  {
   "cell_type": "code",
   "execution_count": 13,
   "metadata": {
    "id": "RBkmDeUW9hE4"
   },
   "outputs": [],
   "source": [
    "# Loading the saved model\n",
    "model = tf.keras.models.load_model(model_save_path)"
   ]
  },
  {
   "cell_type": "code",
   "execution_count": 14,
   "metadata": {
    "colab": {
     "base_uri": "https://localhost:8080/"
    },
    "id": "tFz9Tb0I9hE4",
    "outputId": "1c3b3528-54ae-4ee2-ab04-77429211cbef"
   },
   "outputs": [
    {
     "name": "stdout",
     "output_type": "stream",
     "text": [
      "1/1 [==============================] - 0s 122ms/step\n",
      "[0.27735978 0.7107998  0.01184041]\n",
      "1\n"
     ]
    }
   ],
   "source": [
    "# Inference test\n",
    "predict_result = model.predict(np.array([X_test[0]]))\n",
    "print(np.squeeze(predict_result))\n",
    "print(np.argmax(np.squeeze(predict_result)))"
   ]
  },
  {
   "cell_type": "markdown",
   "metadata": {
    "id": "S3U4yNWx9hE4"
   },
   "source": [
    "# Confusion matrix"
   ]
  },
  {
   "cell_type": "code",
   "execution_count": 15,
   "metadata": {
    "colab": {
     "base_uri": "https://localhost:8080/",
     "height": 582
    },
    "id": "AP1V6SCk9hE5",
    "outputId": "08e41a80-7a4a-4619-8125-ecc371368d19"
   },
   "outputs": [
    {
     "name": "stdout",
     "output_type": "stream",
     "text": [
      "12/12 [==============================] - 0s 1ms/step\n"
     ]
    },
    {
     "data": {
      "image/png": "[encoded data removed]",
      "text/plain": [
       "<Figure size 700x600 with 2 Axes>"
      ]
     },
     "metadata": {},
     "output_type": "display_data"
    },
    {
     "name": "stdout",
     "output_type": "stream",
     "text": [
      "Classification Report\n",
      "              precision    recall  f1-score   support\n",
      "\n",
      "           0       1.00      0.93      0.97       180\n",
      "           1       0.91      1.00      0.95       197\n",
      "           2       0.00      0.00      0.00         7\n",
      "\n",
      "    accuracy                           0.95       384\n",
      "   macro avg       0.64      0.64      0.64       384\n",
      "weighted avg       0.94      0.95      0.94       384\n",
      "\n"
     ]
    },
    {
     "name": "stderr",
     "output_type": "stream",
     "text": [
      "C:\\Users\\samra\\AppData\\Local\\Programs\\Python\\Python311\\Lib\\site-packages\\sklearn\\metrics\\_classification.py:1469: UndefinedMetricWarning: Precision and F-score are ill-defined and being set to 0.0 in labels with no predicted samples. Use `zero_division` parameter to control this behavior.\n",
      "  _warn_prf(average, modifier, msg_start, len(result))\n",
      "C:\\Users\\samra\\AppData\\Local\\Programs\\Python\\Python311\\Lib\\site-packages\\sklearn\\metrics\\_classification.py:1469: UndefinedMetricWarning: Precision and F-score are ill-defined and being set to 0.0 in labels with no predicted samples. Use `zero_division` parameter to control this behavior.\n",
      "  _warn_prf(average, modifier, msg_start, len(result))\n",
      "C:\\Users\\samra\\AppData\\Local\\Programs\\Python\\Python311\\Lib\\site-packages\\sklearn\\metrics\\_classification.py:1469: UndefinedMetricWarning: Precision and F-score are ill-defined and being set to 0.0 in labels with no predicted samples. Use `zero_division` parameter to control this behavior.\n",
      "  _warn_prf(average, modifier, msg_start, len(result))\n"
     ]
    }
   ],
   "source": [
    "import pandas as pd\n",
    "import seaborn as sns\n",
    "import matplotlib.pyplot as plt\n",
    "from sklearn.metrics import confusion_matrix, classification_report\n",
    "\n",
    "def print_confusion_matrix(y_true, y_pred, report=True):\n",
    "    labels = sorted(list(set(y_true)))\n",
    "    cmx_data = confusion_matrix(y_true, y_pred, labels=labels)\n",
    "    \n",
    "    df_cmx = pd.DataFrame(cmx_data, index=labels, columns=labels)\n",
    " \n",
    "    fig, ax = plt.subplots(figsize=(7, 6))\n",
    "    sns.heatmap(df_cmx, annot=True, fmt='g' ,square=False)\n",
    "    ax.set_ylim(len(set(y_true)), 0)\n",
    "    plt.show()\n",
    "    \n",
    "    if report:\n",
    "        print('Classification Report')\n",
    "        print(classification_report(y_test, y_pred))\n",
    "\n",
    "Y_pred = model.predict(X_test)\n",
    "y_pred = np.argmax(Y_pred, axis=1)\n",
    "\n",
    "print_confusion_matrix(y_test, y_pred)"
   ]
  },
  {
   "cell_type": "markdown",
   "metadata": {
    "id": "FNP6aqzc9hE5"
   },
   "source": [
    "# Convert to model for Tensorflow-Lite"
   ]
  },
  {
   "cell_type": "code",
   "execution_count": 16,
   "metadata": {
    "id": "ODjnYyld9hE6"
   },
   "outputs": [],
   "source": [
    "# Save as a model dedicated to inference\n",
    "model.save(model_save_path)"
   ]
  },
  {
   "cell_type": "code",
   "execution_count": 17,
   "metadata": {
    "colab": {
     "base_uri": "https://localhost:8080/"
    },
    "id": "zRfuK8Y59hE6",
    "outputId": "a4ca585c-b5d5-4244-8291-8674063209bb"
   },
   "outputs": [
    {
     "name": "stdout",
     "output_type": "stream",
     "text": [
      "INFO:tensorflow:Assets written to: C:\\Users\\samra\\AppData\\Local\\Temp\\tmpi4e978s7\\assets\n"
     ]
    },
    {
     "name": "stderr",
     "output_type": "stream",
     "text": [
      "INFO:tensorflow:Assets written to: C:\\Users\\samra\\AppData\\Local\\Temp\\tmpi4e978s7\\assets\n"
     ]
    },
    {
     "data": {
      "text/plain": [
       "3460"
      ]
     },
     "execution_count": 17,
     "metadata": {},
     "output_type": "execute_result"
    }
   ],
   "source": [
    "# Transform model (quantization)\n",
    "\n",
    "converter = tf.lite.TFLiteConverter.from_keras_model(model)\n",
    "converter.optimizations = [tf.lite.Optimize.DEFAULT]\n",
    "tflite_quantized_model = converter.convert()\n",
    "\n",
    "open(tflite_save_path, 'wb').write(tflite_quantized_model)"
   ]
  },
  {
   "cell_type": "markdown",
   "metadata": {
    "id": "CHBPBXdx9hE6"
   },
   "source": [
    "# Inference test"
   ]
  },
  {
   "cell_type": "code",
   "execution_count": 18,
   "metadata": {
    "id": "mGAzLocO9hE7"
   },
   "outputs": [],
   "source": [
    "interpreter = tf.lite.Interpreter(model_path=tflite_save_path)\n",
    "interpreter.allocate_tensors()"
   ]
  },
  {
   "cell_type": "code",
   "execution_count": 19,
   "metadata": {
    "id": "oQuDK8YS9hE7"
   },
   "outputs": [],
   "source": [
    "# Get I / O tensor\n",
    "input_details = interpreter.get_input_details()\n",
    "output_details = interpreter.get_output_details()"
   ]
  },
  {
   "cell_type": "code",
   "execution_count": 20,
   "metadata": {
    "id": "2_ixAf_l9hE7"
   },
   "outputs": [],
   "source": [
    "interpreter.set_tensor(input_details[0]['index'], np.array([X_test[0]]))"
   ]
  },
  {
   "cell_type": "code",
   "execution_count": 21,
   "metadata": {
    "colab": {
     "base_uri": "https://localhost:8080/"
    },
    "id": "s4FoAnuc9hE7",
    "outputId": "91f18257-8d8b-4ef3-c558-e9b5f94fabbf",
    "scrolled": true
   },
   "outputs": [
    {
     "name": "stdout",
     "output_type": "stream",
     "text": [
      "CPU times: total: 0 ns\n",
      "Wall time: 0 ns\n"
     ]
    }
   ],
   "source": [
    "%%time\n",
    "# Inference implementation\n",
    "interpreter.invoke()\n",
    "tflite_results = interpreter.get_tensor(output_details[0]['index'])"
   ]
  },
  {
   "cell_type": "code",
   "execution_count": 22,
   "metadata": {
    "colab": {
     "base_uri": "https://localhost:8080/"
    },
    "id": "vONjp19J9hE8",
    "outputId": "77205e24-fd00-42c4-f7b6-e06e527c2cba"
   },
   "outputs": [
    {
     "name": "stdout",
     "output_type": "stream",
     "text": [
      "[0.27735966 0.7107999  0.0118404 ]\n",
      "1\n"
     ]
    }
   ],
   "source": [
    "print(np.squeeze(tflite_results))\n",
    "print(np.argmax(np.squeeze(tflite_results)))"
   ]
  }
 ],
 "metadata": {
  "accelerator": "GPU",
  "colab": {
   "collapsed_sections": [],
   "name": "keypoint_classification_EN.ipynb",
   "provenance": [],
   "toc_visible": true
  },
  "kernelspec": {
   "display_name": "Python 3 (ipykernel)",
   "language": "python",
   "name": "python3"
  },
  "language_info": {
   "codemirror_mode": {
    "name": "ipython",
    "version": 3
   },
   "file_extension": ".py",
   "mimetype": "text/x-python",
   "name": "python",
   "nbconvert_exporter": "python",
   "pygments_lexer": "ipython3",
   "version": "3.11.4"
  }
 },
 "nbformat": 4,
 "nbformat_minor": 4
}
